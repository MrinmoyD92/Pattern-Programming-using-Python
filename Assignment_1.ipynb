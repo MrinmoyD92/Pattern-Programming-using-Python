{
  "nbformat": 4,
  "nbformat_minor": 0,
  "metadata": {
    "colab": {
      "name": "Assignment 1.ipynb",
      "provenance": []
    },
    "kernelspec": {
      "name": "python3",
      "display_name": "Python 3"
    },
    "language_info": {
      "name": "python"
    }
  },
  "cells": [
    {
      "cell_type": "markdown",
      "metadata": {
        "id": "XZf4wWoffISd"
      },
      "source": [
        "# **Assignment 1 - Pattern programming in Python**"
      ]
    },
    {
      "cell_type": "markdown",
      "metadata": {
        "id": "9jX3G7RjgE5w"
      },
      "source": [
        "Name: Mrinmoy M. Dutta\n",
        "\n",
        "Referral ID: SIRSS2103"
      ]
    },
    {
      "cell_type": "code",
      "metadata": {
        "colab": {
          "base_uri": "https://localhost:8080/"
        },
        "id": "SUZUt59ifXMe",
        "outputId": "3b54d880-5b9f-4819-8148-b3420e483864"
      },
      "source": [
        "number = 5\n",
        "for i in range(number,0,-1):\n",
        "  for j in range(0,i):\n",
        "    print(5, end= \" \")\n",
        "  print()\n"
      ],
      "execution_count": 16,
      "outputs": [
        {
          "output_type": "stream",
          "text": [
            "5 5 5 5 5 \n",
            "5 5 5 5 \n",
            "5 5 5 \n",
            "5 5 \n",
            "5 \n"
          ],
          "name": "stdout"
        }
      ]
    },
    {
      "cell_type": "code",
      "metadata": {
        "colab": {
          "base_uri": "https://localhost:8080/"
        },
        "id": "qmlR6QROhRjq",
        "outputId": "3459279d-3598-4cdf-c315-da55280f2a8b"
      },
      "source": [
        "number = 6\n",
        "for i in range(number,1,-1):\n",
        "  for j in range(0,i):\n",
        "    print(j, end = \" \")\n",
        "  print()"
      ],
      "execution_count": 2,
      "outputs": [
        {
          "output_type": "stream",
          "text": [
            "0 1 2 3 4 5 \n",
            "0 1 2 3 4 \n",
            "0 1 2 3 \n",
            "0 1 2 \n",
            "0 1 \n"
          ],
          "name": "stdout"
        }
      ]
    },
    {
      "cell_type": "code",
      "metadata": {
        "colab": {
          "base_uri": "https://localhost:8080/"
        },
        "id": "sj7NFoSviPik",
        "outputId": "5572f6f8-5d59-484a-d70c-73cfd338068a"
      },
      "source": [
        "num_1 = 5\n",
        "num_2 = 1\n",
        "for i in range(1, num_1 + 1):\n",
        "  for j in range(0,i):\n",
        "    print(num_2, end = \" \")\n",
        "  num_2 = num_2 + 2\n",
        "  print()\n"
      ],
      "execution_count": 3,
      "outputs": [
        {
          "output_type": "stream",
          "text": [
            "1 \n",
            "3 3 \n",
            "5 5 5 \n",
            "7 7 7 7 \n",
            "9 9 9 9 9 \n"
          ],
          "name": "stdout"
        }
      ]
    },
    {
      "cell_type": "code",
      "metadata": {
        "colab": {
          "base_uri": "https://localhost:8080/"
        },
        "id": "2-lBvpj8iuD0",
        "outputId": "f574db73-cecd-48d0-bf71-309d4162af0e"
      },
      "source": [
        "number = 5\n",
        "for i in range(1, number + 1):\n",
        "  for j in range(i,0,-1):\n",
        "    print(j,end = \" \")\n",
        "  print()"
      ],
      "execution_count": 4,
      "outputs": [
        {
          "output_type": "stream",
          "text": [
            "1 \n",
            "2 1 \n",
            "3 2 1 \n",
            "4 3 2 1 \n",
            "5 4 3 2 1 \n"
          ],
          "name": "stdout"
        }
      ]
    },
    {
      "cell_type": "code",
      "metadata": {
        "colab": {
          "base_uri": "https://localhost:8080/"
        },
        "id": "xJWztSEdkUe6",
        "outputId": "0b884139-5ae2-4960-ed0a-9a2fca8a5c2c"
      },
      "source": [
        "num_1 = 4\n",
        "num_2 = 0\n",
        "for i in range(1, num_1 + 1):\n",
        "  num_2 = i + num_2\n",
        "  num_3 = num_2\n",
        "  for j in range(0, i):\n",
        "    print(num_3, end = \" \")\n",
        "    num_3 = num_3 - 1\n",
        "  print()\n"
      ],
      "execution_count": 5,
      "outputs": [
        {
          "output_type": "stream",
          "text": [
            "1 \n",
            "3 2 \n",
            "6 5 4 \n",
            "10 9 8 7 \n"
          ],
          "name": "stdout"
        }
      ]
    },
    {
      "cell_type": "code",
      "metadata": {
        "colab": {
          "base_uri": "https://localhost:8080/"
        },
        "id": "GRl49ZvzlYX4",
        "outputId": "45b57965-562d-453e-8f78-5d2c36872bde"
      },
      "source": [
        "def series(num_1):\n",
        "  if num_1 == 0:\n",
        "    return (1)\n",
        "  else:\n",
        "    return (num_1 * series(num_1 - 1))\n",
        "\n",
        "num_2 = 7\n",
        "for i in range(0, num_2):\n",
        "  for j in range(0, i + 1):\n",
        "    num_3 = int(series(i) / (series(j) * series(i - j)))\n",
        "    print(num_3, end = \" \")\n",
        "  print()\n",
        "\n"
      ],
      "execution_count": 6,
      "outputs": [
        {
          "output_type": "stream",
          "text": [
            "1 \n",
            "1 1 \n",
            "1 2 1 \n",
            "1 3 3 1 \n",
            "1 4 6 4 1 \n",
            "1 5 10 10 5 1 \n",
            "1 6 15 20 15 6 1 \n"
          ],
          "name": "stdout"
        }
      ]
    },
    {
      "cell_type": "code",
      "metadata": {
        "colab": {
          "base_uri": "https://localhost:8080/"
        },
        "id": "_VhAxYu6pjGL",
        "outputId": "c8bc99b6-abe0-464e-ef2f-d7a7ef11c727"
      },
      "source": [
        "num_1 = 5\n",
        "for i in range(1, number + 1):\n",
        "  for j in range(1, 6):\n",
        "    num_2 = i if(i > j) else j\n",
        "    print(num_2, end = \" \")\n",
        "  print()\n"
      ],
      "execution_count": 7,
      "outputs": [
        {
          "output_type": "stream",
          "text": [
            "1 2 3 4 5 \n",
            "2 2 3 4 5 \n",
            "3 3 3 4 5 \n",
            "4 4 4 4 5 \n",
            "5 5 5 5 5 \n"
          ],
          "name": "stdout"
        }
      ]
    },
    {
      "cell_type": "code",
      "metadata": {
        "colab": {
          "base_uri": "https://localhost:8080/"
        },
        "id": "MYzMK8hSqa1t",
        "outputId": "a73bf9c9-83d3-4d5b-bc45-6f56a1922f34"
      },
      "source": [
        "number = 8\n",
        "for i in range(1, number + 1):\n",
        "  for j in range(1, i + 1):\n",
        "    print(i * j, end = \" \")\n",
        "  print()"
      ],
      "execution_count": 8,
      "outputs": [
        {
          "output_type": "stream",
          "text": [
            "1 \n",
            "2 4 \n",
            "3 6 9 \n",
            "4 8 12 16 \n",
            "5 10 15 20 25 \n",
            "6 12 18 24 30 36 \n",
            "7 14 21 28 35 42 49 \n",
            "8 16 24 32 40 48 56 64 \n"
          ],
          "name": "stdout"
        }
      ]
    },
    {
      "cell_type": "code",
      "metadata": {
        "colab": {
          "base_uri": "https://localhost:8080/"
        },
        "id": "CXt0JGV1qwah",
        "outputId": "e3924434-1aad-49ab-e449-15d1c493b4bc"
      },
      "source": [
        "value_1 = 6\n",
        "value_2 = 0\n",
        "for i in range(value_1, 0, -1):\n",
        "  for j in range(0, value_2):\n",
        "    print(\" \", end = \"\")\n",
        "  for k in range(0, i):\n",
        "    print(\"*\", end = \" \")\n",
        "  value_2 = value_2 + 1\n",
        "  print()"
      ],
      "execution_count": 9,
      "outputs": [
        {
          "output_type": "stream",
          "text": [
            "* * * * * * \n",
            " * * * * * \n",
            "  * * * * \n",
            "   * * * \n",
            "    * * \n",
            "     * \n"
          ],
          "name": "stdout"
        }
      ]
    },
    {
      "cell_type": "code",
      "metadata": {
        "colab": {
          "base_uri": "https://localhost:8080/"
        },
        "id": "samqyNJOrhqG",
        "outputId": "2d03b90a-245c-42aa-e15b-ec9ef8bd539f"
      },
      "source": [
        "value_1 = 7\n",
        "value_2 = 7\n",
        "for i in range(1, value_1 + 1):\n",
        "  for k in range(0, value_2):\n",
        "    print(\" \", end = \"\")\n",
        "  for j in range(0, i):\n",
        "    print(\"*\", end = \" \")\n",
        "  value_2 = value_2 - 1\n",
        "  print()"
      ],
      "execution_count": 10,
      "outputs": [
        {
          "output_type": "stream",
          "text": [
            "       * \n",
            "      * * \n",
            "     * * * \n",
            "    * * * * \n",
            "   * * * * * \n",
            "  * * * * * * \n",
            " * * * * * * * \n"
          ],
          "name": "stdout"
        }
      ]
    },
    {
      "cell_type": "code",
      "metadata": {
        "colab": {
          "base_uri": "https://localhost:8080/"
        },
        "id": "LQBmKyZas2kY",
        "outputId": "dbbc5acc-7892-450c-9a6a-c34235c22696"
      },
      "source": [
        "value = 6\n",
        "for i in range(1, value + 1):\n",
        "  for j in range(0, i):\n",
        "    print(\"*\", end = \" \")\n",
        "  print()\n",
        "print()\n",
        "for k in range(value, 0, -1):\n",
        "  for l in range(0, k):\n",
        "    print(\"*\", end = \" \")\n",
        "  print()"
      ],
      "execution_count": 11,
      "outputs": [
        {
          "output_type": "stream",
          "text": [
            "* \n",
            "* * \n",
            "* * * \n",
            "* * * * \n",
            "* * * * * \n",
            "* * * * * * \n",
            "\n",
            "* * * * * * \n",
            "* * * * * \n",
            "* * * * \n",
            "* * * \n",
            "* * \n",
            "* \n"
          ],
          "name": "stdout"
        }
      ]
    },
    {
      "cell_type": "code",
      "metadata": {
        "colab": {
          "base_uri": "https://localhost:8080/"
        },
        "id": "qhGTANYarrPV",
        "outputId": "28162a07-86bc-434f-847b-380efb3f048f"
      },
      "source": [
        "value = 5\n",
        "for i in range(1, value + 1):\n",
        "  for j in range(0, i):\n",
        "    print(\"*\", end = \" \")\n",
        "  print()\n",
        "for k in range(value - 1, 0, -1):\n",
        "  for l in range(0, k):\n",
        "    print(\"*\", end = \" \")\n",
        "  print()"
      ],
      "execution_count": 12,
      "outputs": [
        {
          "output_type": "stream",
          "text": [
            "* \n",
            "* * \n",
            "* * * \n",
            "* * * * \n",
            "* * * * * \n",
            "* * * * \n",
            "* * * \n",
            "* * \n",
            "* \n"
          ],
          "name": "stdout"
        }
      ]
    },
    {
      "cell_type": "code",
      "metadata": {
        "colab": {
          "base_uri": "https://localhost:8080/"
        },
        "id": "lAw-PJ80hTc_",
        "outputId": "6f615ef9-0bea-414d-8dbe-75f9307a3a21"
      },
      "source": [
        "num_1 = 5\n",
        "num_2 = 5\n",
        "for i in range(1, num_1 + 1):\n",
        "  for j in range(1, num_2):\n",
        "    print(\" \", end = \" \")\n",
        "  for k in range(0, i):\n",
        "    print(\"*\", end = \" \")\n",
        "  print()\n",
        "  num_2 = num_2 - 1\n",
        "num_2 = 1\n",
        "for i in range(num_1 - 1, 0, -1):\n",
        "  for j in range(0, num_2):\n",
        "    print(\" \", end = \" \")\n",
        "  for k in range(0, i):\n",
        "    print(\"*\", end = \" \")\n",
        "  print()\n",
        "  num_2 = num_2 + 1"
      ],
      "execution_count": 13,
      "outputs": [
        {
          "output_type": "stream",
          "text": [
            "        * \n",
            "      * * \n",
            "    * * * \n",
            "  * * * * \n",
            "* * * * * \n",
            "  * * * * \n",
            "    * * * \n",
            "      * * \n",
            "        * \n"
          ],
          "name": "stdout"
        }
      ]
    },
    {
      "cell_type": "code",
      "metadata": {
        "colab": {
          "base_uri": "https://localhost:8080/"
        },
        "id": "h5hQIOqxjMNt",
        "outputId": "5387808f-8026-4a73-eade-0fe39e977242"
      },
      "source": [
        "num_1 = 5\n",
        "num_2 = 0\n",
        "for i in range(num_1, 0, -1):\n",
        "  for j in range(0, num_2):\n",
        "    print(\" \", end = \"\")\n",
        "  for k in range(0, i):\n",
        "    print(\"*\", end = \" \")\n",
        "  print()\n",
        "  num_2 = num_2 + 1\n",
        "num_2 = 4\n",
        "for i in range(1, num_1 + 1):\n",
        "  for j in range(0, num_2):\n",
        "    print(\" \", end = \"\")\n",
        "  for k in range(0, i):\n",
        "    print(\"*\", end = \" \")\n",
        "  print()\n",
        "  num_2 = num_2 - 1"
      ],
      "execution_count": 14,
      "outputs": [
        {
          "output_type": "stream",
          "text": [
            "* * * * * \n",
            " * * * * \n",
            "  * * * \n",
            "   * * \n",
            "    * \n",
            "    * \n",
            "   * * \n",
            "  * * * \n",
            " * * * * \n",
            "* * * * * \n"
          ],
          "name": "stdout"
        }
      ]
    },
    {
      "cell_type": "code",
      "metadata": {
        "colab": {
          "base_uri": "https://localhost:8080/"
        },
        "id": "coBW34TujtwX",
        "outputId": "0cde2efc-fb8f-4769-c7cb-6cc6a5f4f319"
      },
      "source": [
        "num_1 = 8\n",
        "num_2 = 8\n",
        "for i in range(0, num_1):\n",
        "  for j in range(0, num_2):\n",
        "    print(\"*\", end = \"\")\n",
        "  for k in range(0, i):\n",
        "    print(\"--\", end = \"\")\n",
        "  for l in range(0, num_2):\n",
        "    print(\"*\", end = \"\")\n",
        "  num_2 = num_2 - 1\n",
        "  print()"
      ],
      "execution_count": 15,
      "outputs": [
        {
          "output_type": "stream",
          "text": [
            "****************\n",
            "*******--*******\n",
            "******----******\n",
            "*****------*****\n",
            "****--------****\n",
            "***----------***\n",
            "**------------**\n",
            "*--------------*\n"
          ],
          "name": "stdout"
        }
      ]
    }
  ]
}